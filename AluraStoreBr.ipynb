{
  "nbformat": 4,
  "nbformat_minor": 0,
  "metadata": {
    "colab": {
      "provenance": [],
      "toc_visible": true,
      "include_colab_link": true
    },
    "kernelspec": {
      "name": "python3",
      "display_name": "Python 3"
    },
    "language_info": {
      "name": "python"
    }
  },
  "cells": [
    {
      "cell_type": "markdown",
      "metadata": {
        "id": "view-in-github",
        "colab_type": "text"
      },
      "source": [
        "<a href=\"https://colab.research.google.com/github/DuillesAD/Challenge_data_sciencie_1/blob/main/AluraStoreBr.ipynb\" target=\"_parent\"><img src=\"https://colab.research.google.com/assets/colab-badge.svg\" alt=\"Open In Colab\"/></a>"
      ]
    },
    {
      "cell_type": "markdown",
      "source": [
        "### Importação dos dados\n",
        "\n"
      ],
      "metadata": {
        "id": "RhEdWd9YUR6H"
      }
    },
    {
      "cell_type": "code",
      "execution_count": 19,
      "metadata": {
        "id": "T3EvaeQ_INIL",
        "colab": {
          "base_uri": "https://localhost:8080/",
          "height": 310
        },
        "outputId": "31a7fd53-ae52-4d93-8970-22252e1c6e6a"
      },
      "outputs": [
        {
          "output_type": "execute_result",
          "data": {
            "text/plain": [
              "                 Produto   Categoria do Produto    Preço      Frete  \\\n",
              "0  Cadeira de escritório                 moveis   378.20  20.421138   \n",
              "1               Pandeiro  instrumentos musicais   102.37   3.035334   \n",
              "2              Cama king                 moveis   591.13  31.759020   \n",
              "3              Cama king                 moveis  1208.24  61.919584   \n",
              "4  Cadeira de escritório                 moveis   530.41  25.827176   \n",
              "\n",
              "  Data da Compra        Vendedor Local da compra  Avaliação da compra  \\\n",
              "0     04/08/2021    Thiago Silva              MG                    1   \n",
              "1     26/11/2020   Bianca Santos              RJ                    3   \n",
              "2     22/10/2021    Thiago Silva              SC                    5   \n",
              "3     04/05/2022   Larissa Alves              RS                    5   \n",
              "4     26/02/2022  Lucas Oliveira              SP                    4   \n",
              "\n",
              "  Tipo de pagamento  Quantidade de parcelas    lat    lon  \n",
              "0            boleto                       1 -18.10 -44.38  \n",
              "1    cartao_credito                       4 -22.25 -42.66  \n",
              "2    cartao_credito                      10 -27.45 -50.95  \n",
              "3    cartao_credito                      10 -30.17 -53.50  \n",
              "4    cartao_credito                       3 -22.19 -48.79  "
            ],
            "text/html": [
              "\n",
              "  <div id=\"df-4dadbfec-52fe-48bf-9e62-1bf7d2c90886\" class=\"colab-df-container\">\n",
              "    <div>\n",
              "<style scoped>\n",
              "    .dataframe tbody tr th:only-of-type {\n",
              "        vertical-align: middle;\n",
              "    }\n",
              "\n",
              "    .dataframe tbody tr th {\n",
              "        vertical-align: top;\n",
              "    }\n",
              "\n",
              "    .dataframe thead th {\n",
              "        text-align: right;\n",
              "    }\n",
              "</style>\n",
              "<table border=\"1\" class=\"dataframe\">\n",
              "  <thead>\n",
              "    <tr style=\"text-align: right;\">\n",
              "      <th></th>\n",
              "      <th>Produto</th>\n",
              "      <th>Categoria do Produto</th>\n",
              "      <th>Preço</th>\n",
              "      <th>Frete</th>\n",
              "      <th>Data da Compra</th>\n",
              "      <th>Vendedor</th>\n",
              "      <th>Local da compra</th>\n",
              "      <th>Avaliação da compra</th>\n",
              "      <th>Tipo de pagamento</th>\n",
              "      <th>Quantidade de parcelas</th>\n",
              "      <th>lat</th>\n",
              "      <th>lon</th>\n",
              "    </tr>\n",
              "  </thead>\n",
              "  <tbody>\n",
              "    <tr>\n",
              "      <th>0</th>\n",
              "      <td>Cadeira de escritório</td>\n",
              "      <td>moveis</td>\n",
              "      <td>378.20</td>\n",
              "      <td>20.421138</td>\n",
              "      <td>04/08/2021</td>\n",
              "      <td>Thiago Silva</td>\n",
              "      <td>MG</td>\n",
              "      <td>1</td>\n",
              "      <td>boleto</td>\n",
              "      <td>1</td>\n",
              "      <td>-18.10</td>\n",
              "      <td>-44.38</td>\n",
              "    </tr>\n",
              "    <tr>\n",
              "      <th>1</th>\n",
              "      <td>Pandeiro</td>\n",
              "      <td>instrumentos musicais</td>\n",
              "      <td>102.37</td>\n",
              "      <td>3.035334</td>\n",
              "      <td>26/11/2020</td>\n",
              "      <td>Bianca Santos</td>\n",
              "      <td>RJ</td>\n",
              "      <td>3</td>\n",
              "      <td>cartao_credito</td>\n",
              "      <td>4</td>\n",
              "      <td>-22.25</td>\n",
              "      <td>-42.66</td>\n",
              "    </tr>\n",
              "    <tr>\n",
              "      <th>2</th>\n",
              "      <td>Cama king</td>\n",
              "      <td>moveis</td>\n",
              "      <td>591.13</td>\n",
              "      <td>31.759020</td>\n",
              "      <td>22/10/2021</td>\n",
              "      <td>Thiago Silva</td>\n",
              "      <td>SC</td>\n",
              "      <td>5</td>\n",
              "      <td>cartao_credito</td>\n",
              "      <td>10</td>\n",
              "      <td>-27.45</td>\n",
              "      <td>-50.95</td>\n",
              "    </tr>\n",
              "    <tr>\n",
              "      <th>3</th>\n",
              "      <td>Cama king</td>\n",
              "      <td>moveis</td>\n",
              "      <td>1208.24</td>\n",
              "      <td>61.919584</td>\n",
              "      <td>04/05/2022</td>\n",
              "      <td>Larissa Alves</td>\n",
              "      <td>RS</td>\n",
              "      <td>5</td>\n",
              "      <td>cartao_credito</td>\n",
              "      <td>10</td>\n",
              "      <td>-30.17</td>\n",
              "      <td>-53.50</td>\n",
              "    </tr>\n",
              "    <tr>\n",
              "      <th>4</th>\n",
              "      <td>Cadeira de escritório</td>\n",
              "      <td>moveis</td>\n",
              "      <td>530.41</td>\n",
              "      <td>25.827176</td>\n",
              "      <td>26/02/2022</td>\n",
              "      <td>Lucas Oliveira</td>\n",
              "      <td>SP</td>\n",
              "      <td>4</td>\n",
              "      <td>cartao_credito</td>\n",
              "      <td>3</td>\n",
              "      <td>-22.19</td>\n",
              "      <td>-48.79</td>\n",
              "    </tr>\n",
              "  </tbody>\n",
              "</table>\n",
              "</div>\n",
              "    <div class=\"colab-df-buttons\">\n",
              "\n",
              "  <div class=\"colab-df-container\">\n",
              "    <button class=\"colab-df-convert\" onclick=\"convertToInteractive('df-4dadbfec-52fe-48bf-9e62-1bf7d2c90886')\"\n",
              "            title=\"Convert this dataframe to an interactive table.\"\n",
              "            style=\"display:none;\">\n",
              "\n",
              "  <svg xmlns=\"http://www.w3.org/2000/svg\" height=\"24px\" viewBox=\"0 -960 960 960\">\n",
              "    <path d=\"M120-120v-720h720v720H120Zm60-500h600v-160H180v160Zm220 220h160v-160H400v160Zm0 220h160v-160H400v160ZM180-400h160v-160H180v160Zm440 0h160v-160H620v160ZM180-180h160v-160H180v160Zm440 0h160v-160H620v160Z\"/>\n",
              "  </svg>\n",
              "    </button>\n",
              "\n",
              "  <style>\n",
              "    .colab-df-container {\n",
              "      display:flex;\n",
              "      gap: 12px;\n",
              "    }\n",
              "\n",
              "    .colab-df-convert {\n",
              "      background-color: #E8F0FE;\n",
              "      border: none;\n",
              "      border-radius: 50%;\n",
              "      cursor: pointer;\n",
              "      display: none;\n",
              "      fill: #1967D2;\n",
              "      height: 32px;\n",
              "      padding: 0 0 0 0;\n",
              "      width: 32px;\n",
              "    }\n",
              "\n",
              "    .colab-df-convert:hover {\n",
              "      background-color: #E2EBFA;\n",
              "      box-shadow: 0px 1px 2px rgba(60, 64, 67, 0.3), 0px 1px 3px 1px rgba(60, 64, 67, 0.15);\n",
              "      fill: #174EA6;\n",
              "    }\n",
              "\n",
              "    .colab-df-buttons div {\n",
              "      margin-bottom: 4px;\n",
              "    }\n",
              "\n",
              "    [theme=dark] .colab-df-convert {\n",
              "      background-color: #3B4455;\n",
              "      fill: #D2E3FC;\n",
              "    }\n",
              "\n",
              "    [theme=dark] .colab-df-convert:hover {\n",
              "      background-color: #434B5C;\n",
              "      box-shadow: 0px 1px 3px 1px rgba(0, 0, 0, 0.15);\n",
              "      filter: drop-shadow(0px 1px 2px rgba(0, 0, 0, 0.3));\n",
              "      fill: #FFFFFF;\n",
              "    }\n",
              "  </style>\n",
              "\n",
              "    <script>\n",
              "      const buttonEl =\n",
              "        document.querySelector('#df-4dadbfec-52fe-48bf-9e62-1bf7d2c90886 button.colab-df-convert');\n",
              "      buttonEl.style.display =\n",
              "        google.colab.kernel.accessAllowed ? 'block' : 'none';\n",
              "\n",
              "      async function convertToInteractive(key) {\n",
              "        const element = document.querySelector('#df-4dadbfec-52fe-48bf-9e62-1bf7d2c90886');\n",
              "        const dataTable =\n",
              "          await google.colab.kernel.invokeFunction('convertToInteractive',\n",
              "                                                    [key], {});\n",
              "        if (!dataTable) return;\n",
              "\n",
              "        const docLinkHtml = 'Like what you see? Visit the ' +\n",
              "          '<a target=\"_blank\" href=https://colab.research.google.com/notebooks/data_table.ipynb>data table notebook</a>'\n",
              "          + ' to learn more about interactive tables.';\n",
              "        element.innerHTML = '';\n",
              "        dataTable['output_type'] = 'display_data';\n",
              "        await google.colab.output.renderOutput(dataTable, element);\n",
              "        const docLink = document.createElement('div');\n",
              "        docLink.innerHTML = docLinkHtml;\n",
              "        element.appendChild(docLink);\n",
              "      }\n",
              "    </script>\n",
              "  </div>\n",
              "\n",
              "\n",
              "    <div id=\"df-6dd9dc35-5e6c-46ec-8ad8-ffed237b5698\">\n",
              "      <button class=\"colab-df-quickchart\" onclick=\"quickchart('df-6dd9dc35-5e6c-46ec-8ad8-ffed237b5698')\"\n",
              "                title=\"Suggest charts\"\n",
              "                style=\"display:none;\">\n",
              "\n",
              "<svg xmlns=\"http://www.w3.org/2000/svg\" height=\"24px\"viewBox=\"0 0 24 24\"\n",
              "     width=\"24px\">\n",
              "    <g>\n",
              "        <path d=\"M19 3H5c-1.1 0-2 .9-2 2v14c0 1.1.9 2 2 2h14c1.1 0 2-.9 2-2V5c0-1.1-.9-2-2-2zM9 17H7v-7h2v7zm4 0h-2V7h2v10zm4 0h-2v-4h2v4z\"/>\n",
              "    </g>\n",
              "</svg>\n",
              "      </button>\n",
              "\n",
              "<style>\n",
              "  .colab-df-quickchart {\n",
              "      --bg-color: #E8F0FE;\n",
              "      --fill-color: #1967D2;\n",
              "      --hover-bg-color: #E2EBFA;\n",
              "      --hover-fill-color: #174EA6;\n",
              "      --disabled-fill-color: #AAA;\n",
              "      --disabled-bg-color: #DDD;\n",
              "  }\n",
              "\n",
              "  [theme=dark] .colab-df-quickchart {\n",
              "      --bg-color: #3B4455;\n",
              "      --fill-color: #D2E3FC;\n",
              "      --hover-bg-color: #434B5C;\n",
              "      --hover-fill-color: #FFFFFF;\n",
              "      --disabled-bg-color: #3B4455;\n",
              "      --disabled-fill-color: #666;\n",
              "  }\n",
              "\n",
              "  .colab-df-quickchart {\n",
              "    background-color: var(--bg-color);\n",
              "    border: none;\n",
              "    border-radius: 50%;\n",
              "    cursor: pointer;\n",
              "    display: none;\n",
              "    fill: var(--fill-color);\n",
              "    height: 32px;\n",
              "    padding: 0;\n",
              "    width: 32px;\n",
              "  }\n",
              "\n",
              "  .colab-df-quickchart:hover {\n",
              "    background-color: var(--hover-bg-color);\n",
              "    box-shadow: 0 1px 2px rgba(60, 64, 67, 0.3), 0 1px 3px 1px rgba(60, 64, 67, 0.15);\n",
              "    fill: var(--button-hover-fill-color);\n",
              "  }\n",
              "\n",
              "  .colab-df-quickchart-complete:disabled,\n",
              "  .colab-df-quickchart-complete:disabled:hover {\n",
              "    background-color: var(--disabled-bg-color);\n",
              "    fill: var(--disabled-fill-color);\n",
              "    box-shadow: none;\n",
              "  }\n",
              "\n",
              "  .colab-df-spinner {\n",
              "    border: 2px solid var(--fill-color);\n",
              "    border-color: transparent;\n",
              "    border-bottom-color: var(--fill-color);\n",
              "    animation:\n",
              "      spin 1s steps(1) infinite;\n",
              "  }\n",
              "\n",
              "  @keyframes spin {\n",
              "    0% {\n",
              "      border-color: transparent;\n",
              "      border-bottom-color: var(--fill-color);\n",
              "      border-left-color: var(--fill-color);\n",
              "    }\n",
              "    20% {\n",
              "      border-color: transparent;\n",
              "      border-left-color: var(--fill-color);\n",
              "      border-top-color: var(--fill-color);\n",
              "    }\n",
              "    30% {\n",
              "      border-color: transparent;\n",
              "      border-left-color: var(--fill-color);\n",
              "      border-top-color: var(--fill-color);\n",
              "      border-right-color: var(--fill-color);\n",
              "    }\n",
              "    40% {\n",
              "      border-color: transparent;\n",
              "      border-right-color: var(--fill-color);\n",
              "      border-top-color: var(--fill-color);\n",
              "    }\n",
              "    60% {\n",
              "      border-color: transparent;\n",
              "      border-right-color: var(--fill-color);\n",
              "    }\n",
              "    80% {\n",
              "      border-color: transparent;\n",
              "      border-right-color: var(--fill-color);\n",
              "      border-bottom-color: var(--fill-color);\n",
              "    }\n",
              "    90% {\n",
              "      border-color: transparent;\n",
              "      border-bottom-color: var(--fill-color);\n",
              "    }\n",
              "  }\n",
              "</style>\n",
              "\n",
              "      <script>\n",
              "        async function quickchart(key) {\n",
              "          const quickchartButtonEl =\n",
              "            document.querySelector('#' + key + ' button');\n",
              "          quickchartButtonEl.disabled = true;  // To prevent multiple clicks.\n",
              "          quickchartButtonEl.classList.add('colab-df-spinner');\n",
              "          try {\n",
              "            const charts = await google.colab.kernel.invokeFunction(\n",
              "                'suggestCharts', [key], {});\n",
              "          } catch (error) {\n",
              "            console.error('Error during call to suggestCharts:', error);\n",
              "          }\n",
              "          quickchartButtonEl.classList.remove('colab-df-spinner');\n",
              "          quickchartButtonEl.classList.add('colab-df-quickchart-complete');\n",
              "        }\n",
              "        (() => {\n",
              "          let quickchartButtonEl =\n",
              "            document.querySelector('#df-6dd9dc35-5e6c-46ec-8ad8-ffed237b5698 button');\n",
              "          quickchartButtonEl.style.display =\n",
              "            google.colab.kernel.accessAllowed ? 'block' : 'none';\n",
              "        })();\n",
              "      </script>\n",
              "    </div>\n",
              "\n",
              "    </div>\n",
              "  </div>\n"
            ],
            "application/vnd.google.colaboratory.intrinsic+json": {
              "type": "dataframe",
              "variable_name": "loja2",
              "summary": "{\n  \"name\": \"loja2\",\n  \"rows\": 2359,\n  \"fields\": [\n    {\n      \"column\": \"Produto\",\n      \"properties\": {\n        \"dtype\": \"category\",\n        \"num_unique_values\": 51,\n        \"samples\": [\n          \"Carrinho controle remoto\",\n          \"Bola de v\\u00f4lei\",\n          \"Smartwatch\"\n        ],\n        \"semantic_type\": \"\",\n        \"description\": \"\"\n      }\n    },\n    {\n      \"column\": \"Categoria do Produto\",\n      \"properties\": {\n        \"dtype\": \"category\",\n        \"num_unique_values\": 8,\n        \"samples\": [\n          \"instrumentos musicais\",\n          \"brinquedos\",\n          \"moveis\"\n        ],\n        \"semantic_type\": \"\",\n        \"description\": \"\"\n      }\n    },\n    {\n      \"column\": \"Pre\\u00e7o\",\n      \"properties\": {\n        \"dtype\": \"number\",\n        \"std\": 794.0789966263058,\n        \"min\": 10.16,\n        \"max\": 3937.85,\n        \"num_unique_values\": 2320,\n        \"samples\": [\n          98.61,\n          21.43,\n          84.52\n        ],\n        \"semantic_type\": \"\",\n        \"description\": \"\"\n      }\n    },\n    {\n      \"column\": \"Frete\",\n      \"properties\": {\n        \"dtype\": \"number\",\n        \"std\": 42.32193222889521,\n        \"min\": 0.0,\n        \"max\": 216.7076333964,\n        \"num_unique_values\": 2139,\n        \"samples\": [\n          65.7480428885,\n          8.572070016,\n          16.4739386434\n        ],\n        \"semantic_type\": \"\",\n        \"description\": \"\"\n      }\n    },\n    {\n      \"column\": \"Data da Compra\",\n      \"properties\": {\n        \"dtype\": \"category\",\n        \"num_unique_values\": 1025,\n        \"samples\": [\n          \"17/02/2021\",\n          \"16/03/2023\",\n          \"30/07/2020\"\n        ],\n        \"semantic_type\": \"\",\n        \"description\": \"\"\n      }\n    },\n    {\n      \"column\": \"Vendedor\",\n      \"properties\": {\n        \"dtype\": \"category\",\n        \"num_unique_values\": 14,\n        \"samples\": [\n          \"Felipe Santos\",\n          \"Bruno Rodrigues\",\n          \"Thiago Silva\"\n        ],\n        \"semantic_type\": \"\",\n        \"description\": \"\"\n      }\n    },\n    {\n      \"column\": \"Local da compra\",\n      \"properties\": {\n        \"dtype\": \"category\",\n        \"num_unique_values\": 26,\n        \"samples\": [\n          \"PA\",\n          \"RN\",\n          \"MG\"\n        ],\n        \"semantic_type\": \"\",\n        \"description\": \"\"\n      }\n    },\n    {\n      \"column\": \"Avalia\\u00e7\\u00e3o da compra\",\n      \"properties\": {\n        \"dtype\": \"number\",\n        \"std\": 1,\n        \"min\": 1,\n        \"max\": 5,\n        \"num_unique_values\": 5,\n        \"samples\": [\n          3,\n          2,\n          5\n        ],\n        \"semantic_type\": \"\",\n        \"description\": \"\"\n      }\n    },\n    {\n      \"column\": \"Tipo de pagamento\",\n      \"properties\": {\n        \"dtype\": \"category\",\n        \"num_unique_values\": 4,\n        \"samples\": [\n          \"cartao_credito\",\n          \"cartao_debito\",\n          \"boleto\"\n        ],\n        \"semantic_type\": \"\",\n        \"description\": \"\"\n      }\n    },\n    {\n      \"column\": \"Quantidade de parcelas\",\n      \"properties\": {\n        \"dtype\": \"number\",\n        \"std\": 2,\n        \"min\": 1,\n        \"max\": 24,\n        \"num_unique_values\": 17,\n        \"samples\": [\n          1,\n          4,\n          2\n        ],\n        \"semantic_type\": \"\",\n        \"description\": \"\"\n      }\n    },\n    {\n      \"column\": \"lat\",\n      \"properties\": {\n        \"dtype\": \"number\",\n        \"std\": 5.321014840827842,\n        \"min\": -30.17,\n        \"max\": 1.99,\n        \"num_unique_values\": 26,\n        \"samples\": [\n          -3.79,\n          -5.81,\n          -18.1\n        ],\n        \"semantic_type\": \"\",\n        \"description\": \"\"\n      }\n    },\n    {\n      \"column\": \"lon\",\n      \"properties\": {\n        \"dtype\": \"number\",\n        \"std\": 4.1691112903695196,\n        \"min\": -70.55,\n        \"max\": -36.59,\n        \"num_unique_values\": 26,\n        \"samples\": [\n          -52.48,\n          -36.59,\n          -44.38\n        ],\n        \"semantic_type\": \"\",\n        \"description\": \"\"\n      }\n    }\n  ]\n}"
            }
          },
          "metadata": {},
          "execution_count": 19
        }
      ],
      "source": [
        "import pandas as pd\n",
        "\n",
        "url = \"https://raw.githubusercontent.com/alura-es-cursos/challenge1-data-science/refs/heads/main/base-de-dados-challenge-1/loja_1.csv\"\n",
        "url2 = \"https://raw.githubusercontent.com/alura-es-cursos/challenge1-data-science/refs/heads/main/base-de-dados-challenge-1/loja_2.csv\"\n",
        "url3 = \"https://raw.githubusercontent.com/alura-es-cursos/challenge1-data-science/refs/heads/main/base-de-dados-challenge-1/loja_3.csv\"\n",
        "url4 = \"https://raw.githubusercontent.com/alura-es-cursos/challenge1-data-science/refs/heads/main/base-de-dados-challenge-1/loja_4.csv\"\n",
        "\n",
        "loja = pd.read_csv(url)\n",
        "loja2 = pd.read_csv(url2)\n",
        "loja3 = pd.read_csv(url3)\n",
        "loja4 = pd.read_csv(url4)\n",
        "\n",
        "loja2.head()"
      ]
    },
    {
      "cell_type": "markdown",
      "source": [
        "#1. Análise do faturamento\n"
      ],
      "metadata": {
        "id": "X62IW3KFUIYm"
      }
    },
    {
      "cell_type": "code",
      "source": [
        "def faturamento(loja, numero):\n",
        "  vendas_faturamento = loja[\"Preço\"].sum()\n",
        "  quantidade_produto_vendido = loja[\"Produto\"].count()\n",
        "  ticket_medio = vendas_faturamento / quantidade_produto_vendido\n",
        "  print(f\"Na loja {numero} foram vendios {quantidade_produto_vendido} produtos com um total de faturamento de R$ {vendas_faturamento}. O ticket médio foi de R$ {ticket_medio:.2f}\")\n",
        "  print()\n",
        "\n",
        "faturamento(loja, 1)\n",
        "faturamento(loja2, 2)\n",
        "faturamento(loja3, 3)\n",
        "faturamento(loja4, 4)"
      ],
      "metadata": {
        "colab": {
          "base_uri": "https://localhost:8080/"
        },
        "id": "uu6N57s3FPiw",
        "outputId": "ac38d742-d510-4edc-a3bf-af05a19b333f"
      },
      "execution_count": 20,
      "outputs": [
        {
          "output_type": "stream",
          "name": "stdout",
          "text": [
            "Na loja 1 foram vendios 2359 produtos com um total de faturamento de R$ 1534509.12. O ticket médio foi de R$ 650.49\n",
            "\n",
            "Na loja 2 foram vendios 2359 produtos com um total de faturamento de R$ 1488459.06. O ticket médio foi de R$ 630.97\n",
            "\n",
            "Na loja 3 foram vendios 2359 produtos com um total de faturamento de R$ 1464025.03. O ticket médio foi de R$ 620.61\n",
            "\n",
            "Na loja 4 foram vendios 2358 produtos com um total de faturamento de R$ 1384497.58. O ticket médio foi de R$ 587.15\n",
            "\n"
          ]
        }
      ]
    },
    {
      "cell_type": "markdown",
      "source": [
        "# 2. Vendas por Categoria\n"
      ],
      "metadata": {
        "id": "2V_vcAPzWZmR"
      }
    },
    {
      "cell_type": "code",
      "source": [
        "def vendas_por_categoria(loja, numero):\n",
        "  vendas = loja.groupby(\"Categoria do Produto\")[\"Preço\"].sum()\n",
        "  print(f\"Na loja {numero} Vendas por categoria na loja\")\n",
        "  print(vendas.sort_values(ascending=False))\n",
        "  print()\n",
        "\n",
        "vendas_por_categoria(loja, 1)\n",
        "vendas_por_categoria(loja2, 2)\n",
        "vendas_por_categoria(loja3, 3)\n",
        "vendas_por_categoria(loja4, 4)"
      ],
      "metadata": {
        "id": "A34YupIuYhfF",
        "colab": {
          "base_uri": "https://localhost:8080/"
        },
        "outputId": "d101f13d-90c4-4e16-994a-fa241f1fd51a"
      },
      "execution_count": 21,
      "outputs": [
        {
          "output_type": "stream",
          "name": "stdout",
          "text": [
            "Na loja 1 Vendas por categoria na loja\n",
            "Categoria do Produto\n",
            "eletronicos              572659.23\n",
            "eletrodomesticos         484913.36\n",
            "moveis                   250178.11\n",
            "instrumentos musicais    121731.69\n",
            "esporte e lazer           52387.55\n",
            "brinquedos                23993.78\n",
            "utilidades domesticas     16931.48\n",
            "livros                    11713.92\n",
            "Name: Preço, dtype: float64\n",
            "\n",
            "Na loja 2 Vendas por categoria na loja\n",
            "Categoria do Produto\n",
            "eletronicos              547773.71\n",
            "eletrodomesticos         464758.13\n",
            "moveis                   235234.68\n",
            "instrumentos musicais    139987.03\n",
            "esporte e lazer           46326.09\n",
            "brinquedos                21262.21\n",
            "utilidades domesticas     19662.86\n",
            "livros                    13454.35\n",
            "Name: Preço, dtype: float64\n",
            "\n",
            "Na loja 3 Vendas por categoria na loja\n",
            "Categoria do Produto\n",
            "eletronicos              547699.92\n",
            "eletrodomesticos         438984.89\n",
            "moveis                   268095.56\n",
            "instrumentos musicais    103174.45\n",
            "esporte e lazer           47456.10\n",
            "brinquedos                25869.20\n",
            "utilidades domesticas     20080.21\n",
            "livros                    12664.70\n",
            "Name: Preço, dtype: float64\n",
            "\n",
            "Na loja 4 Vendas por categoria na loja\n",
            "Categoria do Produto\n",
            "eletronicos              545966.86\n",
            "eletrodomesticos         377680.65\n",
            "moveis                   256705.65\n",
            "instrumentos musicais    100136.50\n",
            "esporte e lazer           44465.65\n",
            "brinquedos                27015.67\n",
            "utilidades domesticas     20098.83\n",
            "livros                    12427.77\n",
            "Name: Preço, dtype: float64\n",
            "\n"
          ]
        }
      ]
    },
    {
      "cell_type": "markdown",
      "source": [
        "# 3. Média de Avaliação das Lojas"
      ],
      "metadata": {
        "id": "Rq6tU_xSY3jk"
      }
    },
    {
      "cell_type": "code",
      "source": [
        "def media_avaliação(loja, numero):\n",
        "  media = loja[\"Avaliação da compra\"].mean()\n",
        "  print(f\"Na loja {numero} a média de avaliação foi de {media:.2f}\")\n",
        "\n",
        "media_avaliação(loja, 1)\n",
        "media_avaliação(loja2, 2)\n",
        "media_avaliação(loja3, 3)\n",
        "media_avaliação(loja4, 4)"
      ],
      "metadata": {
        "id": "bh3jjjJwY5MU",
        "colab": {
          "base_uri": "https://localhost:8080/"
        },
        "outputId": "5453322b-33e2-481e-8e8d-b96d205b0b7d"
      },
      "execution_count": 22,
      "outputs": [
        {
          "output_type": "stream",
          "name": "stdout",
          "text": [
            "Na loja 1 a média de avaliação foi de 3.98\n",
            "Na loja 2 a média de avaliação foi de 4.04\n",
            "Na loja 3 a média de avaliação foi de 4.05\n",
            "Na loja 4 a média de avaliação foi de 4.00\n"
          ]
        }
      ]
    },
    {
      "cell_type": "markdown",
      "source": [
        "# 4. Produtos Mais e Menos Vendidos"
      ],
      "metadata": {
        "id": "DmNp1KPBZCm-"
      }
    },
    {
      "cell_type": "code",
      "source": [
        "def prondutos_mais_menos_vendidos(loja, nome_da_loja, numero=5):\n",
        "  mais_vendidos = loja.groupby(\"Produto\")[\"Preço\"].sum().sort_values(ascending=False)\n",
        "  menos_vendidos = loja.groupby(\"Produto\")[\"Preço\"].sum().sort_values(ascending=True)\n",
        "\n",
        "  print(f\"Na loja {nome_da_loja} os 5 produtos mais vendidos foram\")\n",
        "  print(mais_vendidos.head(numero))\n",
        "  print()\n",
        "\n",
        "prondutos_mais_menos_vendidos(loja, \"Loja 1\", 5)\n",
        "prondutos_mais_menos_vendidos(loja2, \"Loja 2\", 5)\n",
        "prondutos_mais_menos_vendidos(loja3, \"Loja 3\", 5)\n",
        "prondutos_mais_menos_vendidos(loja4, \"Loja 4\", 5)"
      ],
      "metadata": {
        "id": "qoyjqijQZHfF",
        "colab": {
          "base_uri": "https://localhost:8080/"
        },
        "outputId": "6ef4ea1c-40bc-44b3-f243-1286316c0753"
      },
      "execution_count": 23,
      "outputs": [
        {
          "output_type": "stream",
          "name": "stdout",
          "text": [
            "Na loja Loja 1 os 5 produtos mais vendidos foram\n",
            "Produto\n",
            "TV Led UHD 4K         189534.28\n",
            "Geladeira             149524.28\n",
            "Celular Plus X42      130536.40\n",
            "Smart TV               89936.15\n",
            "Lavadora de roupas     87711.30\n",
            "Name: Preço, dtype: float64\n",
            "\n",
            "Na loja Loja 2 os 5 produtos mais vendidos foram\n",
            "Produto\n",
            "Celular Plus X42      150967.83\n",
            "TV Led UHD 4K         137833.06\n",
            "Geladeira             130176.48\n",
            "Lavadora de roupas     89016.81\n",
            "Smart TV               81522.94\n",
            "Name: Preço, dtype: float64\n",
            "\n",
            "Na loja Loja 3 os 5 produtos mais vendidos foram\n",
            "Produto\n",
            "Geladeira           133185.99\n",
            "TV Led UHD 4K       128892.11\n",
            "Celular Plus X42    124300.84\n",
            "Smart TV            105116.46\n",
            "Lava louças          85819.73\n",
            "Name: Preço, dtype: float64\n",
            "\n",
            "Na loja Loja 4 os 5 produtos mais vendidos foram\n",
            "Produto\n",
            "Celular Plus X42    128930.07\n",
            "TV Led UHD 4K       120393.25\n",
            "Smart TV            110387.57\n",
            "Geladeira           100362.59\n",
            "Tablet ABXY          75630.75\n",
            "Name: Preço, dtype: float64\n",
            "\n"
          ]
        }
      ]
    },
    {
      "cell_type": "markdown",
      "source": [
        "# 5. Frete Médio por Loja\n"
      ],
      "metadata": {
        "id": "Fl0cGi3bZKqU"
      }
    },
    {
      "cell_type": "markdown",
      "source": [],
      "metadata": {
        "id": "Z5W7JZrAzTic"
      }
    },
    {
      "cell_type": "code",
      "source": [
        "def frete_medio(loja, numero):\n",
        "  total_frete = loja[\"Frete\"].sum()\n",
        "  qdt_frete = loja[\"Frete\"].count()\n",
        "  frete = loja[\"Frete\"].mean()\n",
        "  print(f\"Na loja {numero} o valor do frete total foi de R$ {total_frete:,.2f}\")\n",
        "  print(f\"Com {qdt_frete} fretes realizados\")\n",
        "  print(f\"O preço médio frete da loja {numero} foi de R$ {frete:,.4f}\")\n",
        "  print()\n",
        "\n",
        "\n",
        "frete_medio(loja, 1)\n",
        "frete_medio(loja2, 2)\n",
        "frete_medio(loja3, 3)\n",
        "frete_medio(loja4, 4)"
      ],
      "metadata": {
        "id": "0tSdCie9ZQlt",
        "colab": {
          "base_uri": "https://localhost:8080/"
        },
        "outputId": "bf7d70cd-bac9-46f6-db42-9cc69ad89146"
      },
      "execution_count": 24,
      "outputs": [
        {
          "output_type": "stream",
          "name": "stdout",
          "text": [
            "Na loja 1 o valor do frete total foi de R$ 81,837.97\n",
            "Com 2359 fretes realizados\n",
            "O preço médio frete da loja 1 foi de R$ 34.6918\n",
            "\n",
            "Na loja 2 o valor do frete total foi de R$ 79,314.16\n",
            "Com 2359 fretes realizados\n",
            "O preço médio frete da loja 2 foi de R$ 33.6219\n",
            "\n",
            "Na loja 3 o valor do frete total foi de R$ 78,022.66\n",
            "Com 2359 fretes realizados\n",
            "O preço médio frete da loja 3 foi de R$ 33.0745\n",
            "\n",
            "Na loja 4 o valor do frete total foi de R$ 73,755.88\n",
            "Com 2358 fretes realizados\n",
            "O preço médio frete da loja 4 foi de R$ 31.2790\n",
            "\n"
          ]
        }
      ]
    },
    {
      "cell_type": "markdown",
      "source": [
        "# Gráficos\n"
      ],
      "metadata": {
        "id": "LZEfJYEr3-Cr"
      }
    },
    {
      "cell_type": "code",
      "source": [
        "#Gráfico de faturamento por loja\n",
        "import matplotlib.pyplot as plt\n",
        "\n",
        "lojas = [\"Loja 1\", \"Loja 2\", \"loja 3\", \"Loja 4\"]\n",
        "\n",
        "faturamento = [loja[\"Preço\"].sum(), loja2[\"Preço\"].sum(), loja3[\"Preço\"].sum(), loja4[\"Preço\"].sum()]\n",
        "\n",
        "plt.bar(lojas, faturamento, color= \"blue\")\n",
        "\n",
        "for i in range(len(lojas)):\n",
        "    plt.text(i, faturamento[i] + max(faturamento)*0.01, f'R${faturamento[i]:,.2f}',\n",
        "             ha='center', va='bottom', fontsize=9)\n",
        "\n",
        "plt.xlabel(\"Lojas\")\n",
        "plt.ylabel(\"Faturamento\")\n",
        "plt.title(\"Faturamento por Loja\")\n",
        "\n",
        "\n",
        "plt.tight_layout()\n",
        "plt.show()\n",
        "\n",
        "\n"
      ],
      "metadata": {
        "colab": {
          "base_uri": "https://localhost:8080/",
          "height": 487
        },
        "id": "9yuP2e3xp1-Q",
        "outputId": "690669c0-29e6-4940-971f-70ae5ca9b94e"
      },
      "execution_count": 25,
      "outputs": [
        {
          "output_type": "display_data",
          "data": {
            "text/plain": [
              "<Figure size 640x480 with 1 Axes>"
            ],
            "image/png": "[encoded data removed]"
          },
          "metadata": {}
        }
      ]
    },
    {
      "cell_type": "code",
      "source": [
        "import matplotlib.pyplot as plt\n",
        "\n",
        "lojas = [\"loja 1\", \"loja 2\", \"loja 3\", \"loja 4\"]\n",
        "\n",
        "frete_medio = [\n",
        "    loja[\"Frete\"].mean(),\n",
        "    loja2[\"Frete\"].mean(),\n",
        "    loja3[\"Frete\"].mean(),\n",
        "    loja4[\"Frete\"].mean()\n",
        "    ]\n",
        "\n",
        "plt.figure(figsize=(8, 6))\n",
        "plt.plot(lojas, frete_medio, \"o\", markersize=10)\n",
        "plt.title(\"Frete médio das Lojas\")\n",
        "plt.ylabel(\"Média de frete\")\n",
        "plt.xlabel(\"Lojas\")\n",
        "plt.ylim(0,100)\n",
        "plt.grid(True, axis='y')\n",
        "plt.show()\n"
      ],
      "metadata": {
        "colab": {
          "base_uri": "https://localhost:8080/",
          "height": 565
        },
        "id": "gys8HIThMMm2",
        "outputId": "502c68bd-6666-48d4-f6cf-89a8139321c8"
      },
      "execution_count": 32,
      "outputs": [
        {
          "output_type": "display_data",
          "data": {
            "text/plain": [
              "<Figure size 800x600 with 1 Axes>"
            ],
            "image/png": "[encoded data removed]"
          },
          "metadata": {}
        }
      ]
    },
    {
      "cell_type": "code",
      "source": [
        "import matplotlib.pyplot as plt\n",
        "\n",
        "lojas = [\"loja 1\", \"loja 2\", \"loja 3\", \"loja 4\"]\n",
        "\n",
        "avaliacao = [\n",
        "    loja[\"Avaliação da compra\"].mean(),\n",
        "    loja2[\"Avaliação da compra\"].mean(),\n",
        "    loja3[\"Avaliação da compra\"].mean(),\n",
        "    loja4[\"Avaliação da compra\"].mean()\n",
        "    ]\n",
        "\n",
        "def mostrar_valor(pct, valor_total):\n",
        "  valor = sum(valor_total)\n",
        "  valor_absoluto = float(pct/100.*valor)\n",
        "  return f\"{valor_absoluto:.2f}\"\n",
        "\n",
        "fig, ax = plt.subplots()\n",
        "ax.pie(avaliacao, labels=lojas, autopct=lambda pct: mostrar_valor(pct, avaliacao), startangle=90)\n",
        "\n",
        "plt.title(\"Faturamento das Lojas\")\n",
        "\n",
        "plt.show()\n"
      ],
      "metadata": {
        "colab": {
          "base_uri": "https://localhost:8080/",
          "height": 428
        },
        "id": "KpzjHVpB5C3m",
        "outputId": "41011ee1-bde2-45d6-d884-890f32d00efc"
      },
      "execution_count": 28,
      "outputs": [
        {
          "output_type": "display_data",
          "data": {
            "text/plain": [
              "<Figure size 640x480 with 1 Axes>"
            ],
            "image/png": "[encoded data removed]"
          },
          "metadata": {}
        }
      ]
    },
    {
      "cell_type": "code",
      "source": [],
      "metadata": {
        "id": "T6M9A8HBIlgp"
      },
      "execution_count": 28,
      "outputs": []
    }
  ]
}